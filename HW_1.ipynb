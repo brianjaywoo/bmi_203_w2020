{
 "cells": [
  {
   "cell_type": "markdown",
   "metadata": {},
   "source": [
    "## BMI 203 HW 1, due 1/24/20\n",
    "\n",
    "### Author: Brian Woo\n",
    "\n",
    "This document outlines code to solve problems from homework assignment 1, copied below, for BMI 203. Sources consulted: lecture slides week 1, and *Algorithms 3rd ed*, Cormen et al.\n",
    "\n",
    "\"\n",
    "\n",
    "BMI 203 Winter 2020 Homework Assignment #1 \n",
    "Due 01/24/2020 by 11:59pm \n",
    "\n",
    "Implement BubbleSort, Insertion Sort, and Quicksort for integers \n",
    "\n",
    "- Count the number of assignments \n",
    "- Count the number of conditionals \n",
    "\n",
    "Test some typical edge cases for sorting and run them on Travis \n",
    "- Some cases to think of: \n",
    "- Empty vector \n",
    "- Single element vector \n",
    "- Duplicated elements \n",
    "- Odd vs even length of input vector \n",
    "\n",
    "Test the time complexity of your algorithms as follows: \n",
    "- For sizes of 100, 200, 300, ... 1000 \n",
    "- Generate 100 random vectors \n",
    "- Sort them using your code \n",
    "\n",
    "Using the count data generated, convincingly illustrate the following: \n",
    "- BubbleSort is O(n^2) on average \n",
    "- QuickSort is O(n log(n)) on average \n",
    "\n",
    "To complete this assignment: \n",
    "- Email a single pdf (name = JaneSmith_BMI203_HW1.pdf) to sali@salilab.org, miriam.goldman@ucsf.edu, and laura.gunsalus@ucsf.edu showing: \n",
    "- The number of assignments and conditionals for each algorithm\n",
    "- Convincing argument that the average complexity of the two algorithms is as expected.\n",
    "\n",
    "- Note that graphs are helpful for both of these! \n",
    "- A link to your Github repository \n",
    "- Make sure there is a link to the Travis build results for your repo in the README file \n",
    "- Note that only commits prior to the due date will be considered! \n",
    "\n",
    "\""
   ]
  },
  {
   "cell_type": "code",
   "execution_count": 1,
   "metadata": {},
   "outputs": [],
   "source": [
    "#import statements\n",
    "import random\n",
    "import timeit\n",
    "import numpy as np\n",
    "import matplotlib.pyplot as plt"
   ]
  },
  {
   "cell_type": "markdown",
   "metadata": {},
   "source": [
    "### Part 1: Implementation\n",
    "\n",
    "Let's implement the three sorting algorithms in this homework, but with extra counters not normally used in the 'textbook' implementations in order to keep track of # of assignment statements and conditionals. I will return these as scalars as output of the function (original array is kept in-place, though, and is not returned). \n",
    "\n",
    "Here is some helpful code from Laura from slack about how to do this:\n",
    "\n",
    "\"\n",
    "\n",
    "def calc_factorial(x, comparisons):\n",
    "\n",
    "    comparisons += 1\n",
    "    if x == 1:\n",
    "        return 1, comparisons\n",
    "    else:\n",
    "        (x, new_comparisons)  = calc_factorial(x - 1, comparisons)\n",
    "        return (x, new_comparisons)\n",
    "        \n",
    "def factorial(x):\n",
    "    (fact, comparisons) = calc_factorial(x, 0)\n",
    "    print(\"Factorial: \" + str(fact) + \", comparisons: \" + str(comparisons))\n",
    "    \n",
    "\"\n",
    "\n",
    "Part 1: \n",
    "\n",
    "\"\n",
    "\n",
    "Implement BubbleSort, Insertion Sort, and Quicksort for integers \n",
    "\n",
    "- Count the number of assignments \n",
    "- Count the number of conditionals \n",
    "\n",
    "\""
   ]
  },
  {
   "cell_type": "code",
   "execution_count": 2,
   "metadata": {},
   "outputs": [],
   "source": [
    "###Implement bubblesort. \n",
    "\n",
    "def bubblesort (array): \n",
    "    conds = 0\n",
    "    assigns = 0\n",
    "    for i in range (array.__len__() - 1, 0, -1): #use 'i' to track, essentially, how much of list isn't sorted yet\n",
    "        for j in range (0, i): # index 'j' used to shuffle largest number in the list to position array[i]\n",
    "            conds += 1 #one conditional\n",
    "            if array[j] > array[j + 1]:\n",
    "                assigns += 2 #two assignments\n",
    "                array[j], array[j + 1] = array[j + 1], array[j]\n",
    "    return (conds, assigns)\n",
    "                \n",
    "###Implement insertion sort.\n",
    "\n",
    "def insertion_sort (array):\n",
    "    conds = 0\n",
    "    assigns = 0\n",
    "    for j in range(1, array.__len__()):\n",
    "        assigns += 2 #2 assignments\n",
    "        key = array[j] #what you're looking to insert into the sorted subarray array[1...j-1].\n",
    "        i = j - 1 #e.g. in the first iteration of the for loop, the first 'card' in the deck.\n",
    "        conds += 2\n",
    "        while i >= 0 and array[i] > key: #shuffling logic; items move to the right one at a time\n",
    "            assigns += 2\n",
    "            array[i + 1] = array[i] \n",
    "            i -= 1 \n",
    "        assigns += 1\n",
    "        array[i + 1] = key #insert value of array[j]\n",
    "    return (conds, assigns)\n",
    "        \n",
    "###Implement quick sort.\n",
    "\n",
    "def quick_sort (array, start = 0, end = 0, conds = 0, assigns = 0):\n",
    "    conds += 1\n",
    "    if start < end:\n",
    "        assigns += 1\n",
    "        (q, conds, assigns) = partition (array, start, end, conds, assigns)\n",
    "        quick_sort (array, start, q - 1, conds, assigns)\n",
    "        quick_sort (array, q + 1, end, conds, assigns)\n",
    "    return (conds, assigns) #*: this only returns conds and assignments when the recursion bottoms out. Is this correct though?\n",
    "        \n",
    "def partition (array, start, end, conds = 0, assigns = 0):\n",
    "    assigns += 2\n",
    "    pivot, i = array[end], start - 1  #last element in the list\n",
    "    for j in range(start, end): #not sure about why this can't be 'end - 1' as in Cormen\n",
    "        conds += 1\n",
    "        if array[j] <= pivot:\n",
    "            assigns += 3\n",
    "            i += 1\n",
    "            array[i], array[j] = array[j], array[i]\n",
    "    assigns += 2\n",
    "    array[i + 1], array[end] = array[end], array[i + 1]\n",
    "    return (i + 1, conds, assigns)"
   ]
  },
  {
   "cell_type": "markdown",
   "metadata": {},
   "source": [
    "### Part 2: Testing function correctness and graphing out # conditionals, assignments\n",
    "\n",
    "I willl now write some tests to test my algorithm implementations above for correctness and for expected behavior: I should be able to sort both even/odd vectors, etc.\n",
    "\n",
    "\"\n",
    "\n",
    "Test some typical edge cases for sorting and run them on Travis \n",
    "- Some cases to think of: \n",
    "- Empty vector \n",
    "- Single element vector \n",
    "- Duplicated elements \n",
    "- Odd vs even length of input vector \n",
    "\n",
    "\""
   ]
  },
  {
   "cell_type": "code",
   "execution_count": 3,
   "metadata": {},
   "outputs": [
    {
     "name": "stdout",
     "output_type": "stream",
     "text": [
      "[] [] []\n",
      "Success!\n",
      "[1, 3, 4] [1, 3, 4] [1, 3, 4]\n",
      "Success!\n",
      "[1, 2, 3, 4] [1, 2, 3, 4] [1, 2, 3, 4]\n",
      "Success!\n",
      "[0, 0, 0, 0, 1, 1, 2, 4, 2000] [0, 0, 0, 0, 1, 1, 2, 4, 2000] [0, 0, 0, 0, 1, 1, 2, 4, 2000]\n",
      "Success!\n",
      "[0, 0, 0, 0, 0, 0, 0, 0, 0, 1, 1, 2, 2, 50, 1000] [0, 0, 0, 0, 0, 0, 0, 0, 0, 1, 1, 2, 2, 50, 1000] [0, 0, 0, 0, 0, 0, 0, 0, 0, 1, 1, 2, 2, 50, 1000]\n",
      "Success!\n",
      "[1, 2, 3, 4, 5, 6] [1, 2, 3, 4, 5, 6] [1, 2, 3, 4, 5, 6]\n",
      "Success!\n"
     ]
    }
   ],
   "source": [
    "###Define a tester function that tests for equality the output between the three sorting algorithms, and then compares the output \n",
    "###to python's sorted function.\n",
    "\n",
    "def tester_function (array): \n",
    "    #code repeating: sort array, copy it, then shuffle array so I can test the next sort method\n",
    "    bubblesort(array)\n",
    "    b = array.copy()\n",
    "    random.shuffle(array)\n",
    "    #do for insertion\n",
    "    insertion_sort(array)\n",
    "    i = array.copy()\n",
    "    random.shuffle(array)\n",
    "    #do for quick sort\n",
    "    quick_sort(array, 0, array.__len__() - 1)\n",
    "    q = array.copy()\n",
    "    print(b, i, q)\n",
    "    random.shuffle(array)\n",
    "    #test for equality between vals and python's sorted function\n",
    "    if not b == i == q == sorted(array):\n",
    "        raise ValueError \n",
    "    print ('Success!')\n",
    "\n",
    "##test empty vector\n",
    "tester_function([])\n",
    "\n",
    "##test odd\n",
    "tester_function([1, 4, 3])\n",
    "\n",
    "##test even\n",
    "tester_function ([2, 3, 4, 1])\n",
    "\n",
    "##test larger vector\n",
    "tester_function ([2, 1, 0, 2000, 1, 4, 0, 0, 0])\n",
    "\n",
    "##even larger with more duplicated elems\n",
    "tester_function ([2, 0, 0, 0, 0, 0, 1, 1000, 2, 0, 50, 0, 0, 0, 1])\n",
    "\n",
    "##test perfectly sorted vector\n",
    "tester_function ([1, 2, 3, 4, 5, 6])\n"
   ]
  },
  {
   "cell_type": "markdown",
   "metadata": {},
   "source": [
    "Looks like the functions above function as expected, with correct sorting for all."
   ]
  },
  {
   "cell_type": "markdown",
   "metadata": {},
   "source": [
    "### Part 2b. Counting conditionals and assignments, graphing\n",
    "\n",
    "I now look at number of conditional comparisons and assignments and graph for an increasing input size to see how this grows with increasing size of input."
   ]
  },
  {
   "cell_type": "code",
   "execution_count": 4,
   "metadata": {},
   "outputs": [
    {
     "name": "stdout",
     "output_type": "stream",
     "text": [
      "[(4950, 4700), (19900, 20358), (44850, 43934), (79800, 82948), (124750, 124648), (179700, 189140), (244650, 250944), (319600, 319542), (404550, 402024)]\n"
     ]
    }
   ],
   "source": [
    "bubblecounts  = []\n",
    "for i in range (100, 1000, 100):\n",
    "    array = np.random.rand (i)\n",
    "    counts = bubblesort(array)\n",
    "    bubblecounts.append(counts)\n",
    "print(bubblecounts)"
   ]
  },
  {
   "cell_type": "code",
   "execution_count": 5,
   "metadata": {},
   "outputs": [
    {
     "name": "stdout",
     "output_type": "stream",
     "text": [
      "[(198, 5973), (398, 21011), (598, 44565), (798, 80529), (998, 126621), (1198, 180337), (1398, 251429), (1598, 331253), (1798, 411395)]\n"
     ]
    }
   ],
   "source": [
    "insertcounts  = []\n",
    "for i in range (100, 1000, 100):\n",
    "    array = np.random.rand (i)\n",
    "    counts = insertion_sort(array)\n",
    "    insertcounts.append(counts)\n",
    "print(insertcounts)"
   ]
  },
  {
   "cell_type": "code",
   "execution_count": 6,
   "metadata": {},
   "outputs": [
    {
     "name": "stdout",
     "output_type": "stream",
     "text": [
      "[(100, 236), (200, 50), (300, 194), (400, 770), (500, 215), (600, 35), (700, 1508), (800, 1739), (900, 2006)]\n"
     ]
    }
   ],
   "source": [
    "quickcounts  = []\n",
    "for i in range (100, 1000, 100):\n",
    "    array = np.random.rand (i)\n",
    "    counts = quick_sort(array, 0, array.__len__() - 1)\n",
    "    quickcounts.append(counts)\n",
    "print(quickcounts)"
   ]
  },
  {
   "cell_type": "code",
   "execution_count": 7,
   "metadata": {},
   "outputs": [],
   "source": [
    "#Agglomerating data \n",
    "\n",
    "bubbleconds, bubbleassigns = [i[0] for i in bubblecounts], [i[1] for i in bubblecounts]\n",
    "insertconds, insertassigns = [i[0] for i in insertcounts], [i[1] for i in insertcounts]\n",
    "quickconds, quickassigns = [i[0] for i in quickcounts], [i[1] for i in quickcounts]\n"
   ]
  },
  {
   "cell_type": "code",
   "execution_count": 8,
   "metadata": {},
   "outputs": [
    {
     "data": {
      "text/plain": [
       "Text(0.5, 0.98, 'Sort conditional comparison; iteration vector ranging from 100-1,000 long')"
      ]
     },
     "execution_count": 8,
     "metadata": {},
     "output_type": "execute_result"
    },
    {
     "data": {
      "image/png": "[encoded data removed]",
      "text/plain": [
       "<Figure size 432x288 with 1 Axes>"
      ]
     },
     "metadata": {
      "needs_background": "light"
     },
     "output_type": "display_data"
    }
   ],
   "source": [
    "#Graphing conditional comparisons\n",
    "\n",
    "x = range(100, 1000, 100)\n",
    "plt.plot(x, bubbleconds, label = 'bubblesort')\n",
    "plt.plot(x, insertconds, label = 'insertion_sort')\n",
    "plt.plot(x, quickconds, label = 'quick_sort')\n",
    "plt.legend()\n",
    "plt.ylabel('number of conditional comparisons')\n",
    "plt.xlabel('# of elements per vector sorted through')\n",
    "plt.suptitle('Sort conditional comparison; iteration vector ranging from 100-1,000 long')"
   ]
  },
  {
   "cell_type": "code",
   "execution_count": 9,
   "metadata": {},
   "outputs": [
    {
     "data": {
      "text/plain": [
       "Text(0.5, 0.98, 'Sort assignment comparison; iteration vector ranging from 100-1,000 long')"
      ]
     },
     "execution_count": 9,
     "metadata": {},
     "output_type": "execute_result"
    },
    {
     "data": {
      "image/png": "[encoded data removed]",
      "text/plain": [
       "<Figure size 432x288 with 1 Axes>"
      ]
     },
     "metadata": {
      "needs_background": "light"
     },
     "output_type": "display_data"
    }
   ],
   "source": [
    "#Graphing assignments\n",
    "\n",
    "x = range(100, 1000, 100)\n",
    "plt.plot(x, bubbleassigns, label = 'bubblesort')\n",
    "plt.plot(x, insertassigns, label = 'insertion_sort')\n",
    "plt.plot(x, quickassigns, label = 'quick_sort')\n",
    "plt.legend()\n",
    "plt.ylabel('number of assignments')\n",
    "plt.xlabel('# of elements per vector sorted through')\n",
    "plt.suptitle('Sort assignment comparison; iteration vector ranging from 100-1,000 long')"
   ]
  },
  {
   "cell_type": "markdown",
   "metadata": {},
   "source": [
    "Interesting: when looking at numbers of assignments, bubblesort and insertion sort make the same amount; however, when looking at conditional comparisons, insertion sort and quick sort seem to make the same amount of comparisons. I guess the fact that bubblesort seems to scale exponentially in BOTH assignments and conditional comparisons would lead me to believe that it would be slower on average than insertion sort."
   ]
  },
  {
   "cell_type": "markdown",
   "metadata": {},
   "source": [
    "### Part 3\n",
    "\n",
    "Using the timeit module, I will calculate time taken from each of the algorithms above to sort the same array of array vectors (here, 100 vectors of length ranging from 100-1000, in increments of 100). I will then record the output in a list and then graph that list using matplotlib afterwards to look at how the different algorithms compare in terms of time.\n",
    "\n",
    "I only pass 'number = 1' for timeit to run through a single iteration only (we already are going through 100 vectors). Otherwise, the time taken to do this becomes prohibitive.\n",
    "\n",
    "\"\n",
    "\n",
    "Test the time complexity of your algorithms as follows: \n",
    "- For sizes of 100, 200, 300, ... 1000 \n",
    "- Generate 100 random vectors \n",
    "- Sort them using your code \n",
    "   \n",
    "\""
   ]
  },
  {
   "cell_type": "code",
   "execution_count": 10,
   "metadata": {},
   "outputs": [
    {
     "data": {
      "text/plain": [
       "[0.21554965060204268,\n",
       " 0.7991569275036454,\n",
       " 1.7129983948543668,\n",
       " 3.0759271504357457,\n",
       " 4.8582046600058675,\n",
       " 7.145807221531868,\n",
       " 9.729724559932947,\n",
       " 12.787913668900728,\n",
       " 23.883205940946937]"
      ]
     },
     "execution_count": 10,
     "metadata": {},
     "output_type": "execute_result"
    }
   ],
   "source": [
    "bubbletime = []\n",
    "for i in range(100, 1000, 100):\n",
    "    array = np.random.rand(100, i)\n",
    "    time = timeit.timeit('for j in array: bubblesort(j)', number = 1, globals=globals())\n",
    "    bubbletime.append(time)\n",
    "bubbletime"
   ]
  },
  {
   "cell_type": "code",
   "execution_count": 11,
   "metadata": {},
   "outputs": [
    {
     "data": {
      "text/plain": [
       "[0.15372825972735882,\n",
       " 0.7109024515375495,\n",
       " 1.589172225445509,\n",
       " 2.896567201241851,\n",
       " 4.491341618821025,\n",
       " 6.525663781911135,\n",
       " 8.25199329201132,\n",
       " 10.585509598255157,\n",
       " 15.06761048361659]"
      ]
     },
     "execution_count": 11,
     "metadata": {},
     "output_type": "execute_result"
    }
   ],
   "source": [
    "inserttime = []\n",
    "for i in range(100, 1000, 100):\n",
    "    array = np.random.rand(100, i)\n",
    "    time = timeit.timeit('for j in array: insertion_sort(j)', number = 1, globals=globals())\n",
    "    inserttime.append(time)\n",
    "inserttime"
   ]
  },
  {
   "cell_type": "code",
   "execution_count": 12,
   "metadata": {},
   "outputs": [
    {
     "data": {
      "text/plain": [
       "[0.057521430775523186,\n",
       " 0.1358411032706499,\n",
       " 0.21859287843108177,\n",
       " 0.2998311724513769,\n",
       " 0.40238778106868267,\n",
       " 0.5170285562053323,\n",
       " 0.6059878831729293,\n",
       " 0.7035552952438593,\n",
       " 0.8116085138171911]"
      ]
     },
     "execution_count": 12,
     "metadata": {},
     "output_type": "execute_result"
    }
   ],
   "source": [
    "quicktime = []\n",
    "for i in range(100, 1000, 100):\n",
    "    array = np.random.rand(100, i)\n",
    "    time = timeit.timeit('for j in array: quick_sort(j, 0, j.__len__() - 1)', number = 1, globals=globals())\n",
    "    quicktime.append(time)\n",
    "quicktime"
   ]
  },
  {
   "cell_type": "markdown",
   "metadata": {},
   "source": [
    "### Part 4: Graphing time complexity\n",
    "Using the count data generated, convincingly illustrate the following: \n",
    "\n",
    "- BubbleSort is O(n^2) on average \n",
    "- QuickSort is O(n log(n)) on average "
   ]
  },
  {
   "cell_type": "code",
   "execution_count": 13,
   "metadata": {},
   "outputs": [
    {
     "data": {
      "text/plain": [
       "Text(0.5, 0.98, 'Sort time comparison; iteration through array of 100 elements, each ranging from 100-1000 long')"
      ]
     },
     "execution_count": 13,
     "metadata": {},
     "output_type": "execute_result"
    },
    {
     "data": {
      "image/png": "[encoded data removed]",
      "text/plain": [
       "<Figure size 432x288 with 1 Axes>"
      ]
     },
     "metadata": {
      "needs_background": "light"
     },
     "output_type": "display_data"
    }
   ],
   "source": [
    "x = range(100, 1000, 100)\n",
    "plt.plot(x, bubbletime, label = 'bubblesort')\n",
    "plt.plot(x, inserttime, label = 'insertion_sort')\n",
    "plt.plot(x, quicktime, label = 'quick_sort')\n",
    "plt.legend()\n",
    "plt.ylabel('time from timeit module')\n",
    "plt.xlabel('# of elements per vector sorted through')\n",
    "plt.suptitle('Sort time comparison; iteration through array of 100 elements, each ranging from 100-1000 long')"
   ]
  },
  {
   "cell_type": "markdown",
   "metadata": {},
   "source": [
    "This looks potentialy a little weird: insertion sort looks to be in the middle, but it doesn't look convincingly O(n^2). Bubblesort does look O(n^2) though, and quicksort is clearly lower in order of Big O magnitude, O(nlog(n)). \n",
    "\n",
    "Let's examine this for greater size input to see how behavior changes with a larger range (but let's use vectors per array, so this can be run in decently fast time. I choose to use 20 vectors per array here). "
   ]
  },
  {
   "cell_type": "code",
   "execution_count": 14,
   "metadata": {},
   "outputs": [
    {
     "name": "stdout",
     "output_type": "stream",
     "text": [
      "[2.149604515172541, 19.82433989364654, 50.27204054966569, 101.09581389371306, 154.61078351084143]\n",
      "[0.9236625749617815, 7.0229490250349045, 17.11769698932767, 27.46389482356608, 47.09159424342215]\n",
      "[0.06975982338190079, 0.27952912636101246, 0.5133162243291736, 0.7485932605341077, 0.9871322754770517]\n"
     ]
    }
   ],
   "source": [
    "bubbletime = []\n",
    "for i in range(500, 5500, 1000):\n",
    "    array = np.random.rand(20, i)\n",
    "    time = timeit.timeit('for j in array: bubblesort(j)', number = 1, globals=globals())\n",
    "    bubbletime.append(time)\n",
    "print(bubbletime)\n",
    "\n",
    "inserttime = []\n",
    "for i in range(500, 5500, 1000):\n",
    "    array = np.random.rand(20, i)\n",
    "    time = timeit.timeit('for j in array: insertion_sort(j)', number = 1, globals=globals())\n",
    "    inserttime.append(time)\n",
    "print(inserttime)\n",
    "\n",
    "quicktime = []\n",
    "for i in range(500, 5500, 1000):\n",
    "    array = np.random.rand(20, i)\n",
    "    time = timeit.timeit('for j in array: quick_sort(j, 0, j.__len__() - 1)', number = 1, globals=globals())\n",
    "    quicktime.append(time)\n",
    "print(quicktime)"
   ]
  },
  {
   "cell_type": "code",
   "execution_count": 17,
   "metadata": {},
   "outputs": [
    {
     "data": {
      "text/plain": [
       "Text(0.5, 0.98, 'Sort time comparison; iteration through array of 10 elements, each ranging from 100-10,000 long')"
      ]
     },
     "execution_count": 17,
     "metadata": {},
     "output_type": "execute_result"
    },
    {
     "data": {
      "image/png": "[encoded data removed]",
      "text/plain": [
       "<Figure size 432x288 with 1 Axes>"
      ]
     },
     "metadata": {
      "needs_background": "light"
     },
     "output_type": "display_data"
    }
   ],
   "source": [
    "x = range(500, 5500, 1000)\n",
    "plt.plot(x, bubbletime, label = 'bubblesort')\n",
    "plt.plot(x, inserttime, label = 'insertion_sort')\n",
    "plt.plot(x, quicktime, label = 'quick_sort')\n",
    "plt.legend()\n",
    "plt.ylabel('time from timeit module')\n",
    "plt.xlabel('# of elements per vector sorted through')\n",
    "plt.suptitle('Sort time comparison; iteration through array of 10 elements, each ranging from 100-10,000 long')"
   ]
  },
  {
   "cell_type": "markdown",
   "metadata": {},
   "source": [
    "This look a little better: there is a weird spike at some of the points. Maybe I need to increase the 'n' I sample in order to smooth out random noise. However, insertion sort clearly looks to spike up exponentially in run time, in-line with its O(n^2) worst-case runtime."
   ]
  },
  {
   "cell_type": "code",
   "execution_count": null,
   "metadata": {},
   "outputs": [],
   "source": []
  }
 ],
 "metadata": {
  "kernelspec": {
   "display_name": "Python 3",
   "language": "python",
   "name": "python3"
  },
  "language_info": {
   "codemirror_mode": {
    "name": "ipython",
    "version": 3
   },
   "file_extension": ".py",
   "mimetype": "text/x-python",
   "name": "python",
   "nbconvert_exporter": "python",
   "pygments_lexer": "ipython3",
   "version": "3.7.1"
  }
 },
 "nbformat": 4,
 "nbformat_minor": 2
}
